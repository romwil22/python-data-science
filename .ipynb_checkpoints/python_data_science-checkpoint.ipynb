{
 "cells": [
  {
   "cell_type": "markdown",
   "id": "b29468ff",
   "metadata": {},
   "source": [
    "# Python for data science"
   ]
  },
  {
   "cell_type": "markdown",
   "id": "c992882f",
   "metadata": {},
   "source": [
    "# Numpy"
   ]
  },
  {
   "cell_type": "code",
   "execution_count": 1,
   "id": "c453e402",
   "metadata": {},
   "outputs": [],
   "source": [
    "import numpy as np"
   ]
  },
  {
   "cell_type": "code",
   "execution_count": 2,
   "id": "9e9b8ea5",
   "metadata": {},
   "outputs": [],
   "source": [
    "listArray = [1,21,32,44,2,65]\n",
    "tupleArrya = (2,31,43,21,32,45)\n",
    "\n",
    "array1 = np.array(listArray)\n",
    "array1 = np.array(listArray, dtype=\"i\") # defining data type\n",
    "array2 = np.array(tupleArrya, dtype=\"f\")"
   ]
  },
  {
   "cell_type": "code",
   "execution_count": 3,
   "id": "0224a2d3",
   "metadata": {},
   "outputs": [
    {
     "name": "stdout",
     "output_type": "stream",
     "text": [
      "<class 'numpy.ndarray'> <class 'numpy.ndarray'>\n"
     ]
    }
   ],
   "source": [
    "print(type(array1), type(array2))"
   ]
  },
  {
   "cell_type": "code",
   "execution_count": 4,
   "id": "ab5e3f4d",
   "metadata": {},
   "outputs": [
    {
     "data": {
      "text/plain": [
       "array([ 1, 21, 32, 44,  2, 65], dtype=int32)"
      ]
     },
     "execution_count": 4,
     "metadata": {},
     "output_type": "execute_result"
    }
   ],
   "source": [
    "array1"
   ]
  },
  {
   "cell_type": "code",
   "execution_count": 5,
   "id": "dff37e2f",
   "metadata": {},
   "outputs": [
    {
     "data": {
      "text/plain": [
       "array([ 2., 31., 43., 21., 32., 45.], dtype=float32)"
      ]
     },
     "execution_count": 5,
     "metadata": {},
     "output_type": "execute_result"
    }
   ],
   "source": [
    "array2"
   ]
  },
  {
   "cell_type": "code",
   "execution_count": 6,
   "id": "0af36618",
   "metadata": {},
   "outputs": [
    {
     "data": {
      "text/plain": [
       "dtype('int32')"
      ]
     },
     "execution_count": 6,
     "metadata": {},
     "output_type": "execute_result"
    }
   ],
   "source": [
    "array1.dtype #show array data type"
   ]
  },
  {
   "cell_type": "markdown",
   "id": "3b410aab",
   "metadata": {},
   "source": [
    "# Array dimension"
   ]
  },
  {
   "cell_type": "code",
   "execution_count": 7,
   "id": "529dfafe",
   "metadata": {},
   "outputs": [],
   "source": [
    "numArray1 = np.array([1,2,3,4,5]) # one dimensional array\n",
    "numArray2 = np.array([[1,2,3,4,5],[6,7,8,9,10]]) # two dimensional array"
   ]
  },
  {
   "cell_type": "code",
   "execution_count": 8,
   "id": "5332a1e0",
   "metadata": {},
   "outputs": [
    {
     "data": {
      "text/plain": [
       "1"
      ]
     },
     "execution_count": 8,
     "metadata": {},
     "output_type": "execute_result"
    }
   ],
   "source": [
    "numArray1.ndim # show number of dimension of array"
   ]
  },
  {
   "cell_type": "code",
   "execution_count": 9,
   "id": "0e0a8651",
   "metadata": {},
   "outputs": [
    {
     "data": {
      "text/plain": [
       "array([1, 2, 3, 4, 5])"
      ]
     },
     "execution_count": 9,
     "metadata": {},
     "output_type": "execute_result"
    }
   ],
   "source": [
    "numArray1"
   ]
  },
  {
   "cell_type": "code",
   "execution_count": 10,
   "id": "b39ce613",
   "metadata": {},
   "outputs": [
    {
     "data": {
      "text/plain": [
       "2"
      ]
     },
     "execution_count": 10,
     "metadata": {},
     "output_type": "execute_result"
    }
   ],
   "source": [
    "numArray2.ndim"
   ]
  },
  {
   "cell_type": "code",
   "execution_count": 11,
   "id": "f6b70ced",
   "metadata": {},
   "outputs": [
    {
     "data": {
      "text/plain": [
       "array([[ 1,  2,  3,  4,  5],\n",
       "       [ 6,  7,  8,  9, 10]])"
      ]
     },
     "execution_count": 11,
     "metadata": {},
     "output_type": "execute_result"
    }
   ],
   "source": [
    "numArray2"
   ]
  },
  {
   "cell_type": "code",
   "execution_count": 12,
   "id": "fa11a6e5",
   "metadata": {},
   "outputs": [
    {
     "data": {
      "text/plain": [
       "4"
      ]
     },
     "execution_count": 12,
     "metadata": {},
     "output_type": "execute_result"
    }
   ],
   "source": [
    "numArray2[0,3] # accessing array of multiple array element value"
   ]
  },
  {
   "cell_type": "code",
   "execution_count": 13,
   "id": "9a785b51",
   "metadata": {},
   "outputs": [
    {
     "data": {
      "text/plain": [
       "8"
      ]
     },
     "execution_count": 13,
     "metadata": {},
     "output_type": "execute_result"
    }
   ],
   "source": [
    "numArray2[1,2]"
   ]
  },
  {
   "cell_type": "code",
   "execution_count": 14,
   "id": "eb1737bf",
   "metadata": {},
   "outputs": [
    {
     "name": "stderr",
     "output_type": "stream",
     "text": [
      "C:\\Users\\Rom\\AppData\\Local\\Temp\\ipykernel_3152\\3704671589.py:1: VisibleDeprecationWarning: Creating an ndarray from ragged nested sequences (which is a list-or-tuple of lists-or-tuples-or ndarrays with different lengths or shapes) is deprecated. If you meant to do this, you must specify 'dtype=object' when creating the ndarray.\n",
      "  diffSizeArray = np.array([[1,2,3,4],[9,8,7,6,5,4]]) # size must be the same\n"
     ]
    }
   ],
   "source": [
    "diffSizeArray = np.array([[1,2,3,4],[9,8,7,6,5,4]]) # size must be the same"
   ]
  },
  {
   "cell_type": "code",
   "execution_count": 15,
   "id": "1c4dddbe",
   "metadata": {},
   "outputs": [],
   "source": [
    "numArray3 = np.array([[[1,2,3],[4,5,6]], [[11,22,33],[44,45,46]], [[10,20,30],[40,50,60]]]) # three dimensional array"
   ]
  },
  {
   "cell_type": "code",
   "execution_count": 16,
   "id": "004911ee",
   "metadata": {},
   "outputs": [
    {
     "data": {
      "text/plain": [
       "3"
      ]
     },
     "execution_count": 16,
     "metadata": {},
     "output_type": "execute_result"
    }
   ],
   "source": [
    "numArray3.ndim"
   ]
  },
  {
   "cell_type": "code",
   "execution_count": 17,
   "id": "c0ad6c0f",
   "metadata": {},
   "outputs": [
    {
     "data": {
      "text/plain": [
       "array([[[ 1,  2,  3],\n",
       "        [ 4,  5,  6]],\n",
       "\n",
       "       [[11, 22, 33],\n",
       "        [44, 45, 46]],\n",
       "\n",
       "       [[10, 20, 30],\n",
       "        [40, 50, 60]]])"
      ]
     },
     "execution_count": 17,
     "metadata": {},
     "output_type": "execute_result"
    }
   ],
   "source": [
    "numArray3"
   ]
  },
  {
   "cell_type": "code",
   "execution_count": 18,
   "id": "f8e7b1ab",
   "metadata": {},
   "outputs": [
    {
     "data": {
      "text/plain": [
       "22"
      ]
     },
     "execution_count": 18,
     "metadata": {},
     "output_type": "execute_result"
    }
   ],
   "source": [
    "numArray3[1,0,1] # accessing 3d array element value"
   ]
  },
  {
   "cell_type": "code",
   "execution_count": 19,
   "id": "e1bac3e7",
   "metadata": {},
   "outputs": [
    {
     "data": {
      "text/plain": [
       "40"
      ]
     },
     "execution_count": 19,
     "metadata": {},
     "output_type": "execute_result"
    }
   ],
   "source": [
    "numArray3[2,1,0]"
   ]
  },
  {
   "cell_type": "code",
   "execution_count": 20,
   "id": "3455df2c",
   "metadata": {},
   "outputs": [
    {
     "data": {
      "text/plain": [
       "(3, 2, 3)"
      ]
     },
     "execution_count": 20,
     "metadata": {},
     "output_type": "execute_result"
    }
   ],
   "source": [
    "numArray3.shape # show the shape of an array"
   ]
  },
  {
   "cell_type": "code",
   "execution_count": 21,
   "id": "857bcb9f",
   "metadata": {},
   "outputs": [
    {
     "data": {
      "text/plain": [
       "3"
      ]
     },
     "execution_count": 21,
     "metadata": {},
     "output_type": "execute_result"
    }
   ],
   "source": [
    "numArray3.shape[0] # dimention"
   ]
  },
  {
   "cell_type": "code",
   "execution_count": 22,
   "id": "4f825413",
   "metadata": {},
   "outputs": [
    {
     "data": {
      "text/plain": [
       "2"
      ]
     },
     "execution_count": 22,
     "metadata": {},
     "output_type": "execute_result"
    }
   ],
   "source": [
    "numArray3.shape[1] # number of array"
   ]
  },
  {
   "cell_type": "code",
   "execution_count": 23,
   "id": "18901d8e",
   "metadata": {},
   "outputs": [
    {
     "data": {
      "text/plain": [
       "3"
      ]
     },
     "execution_count": 23,
     "metadata": {},
     "output_type": "execute_result"
    }
   ],
   "source": [
    "numArray3.shape[2] # element in array"
   ]
  },
  {
   "cell_type": "code",
   "execution_count": 24,
   "id": "919363c6",
   "metadata": {},
   "outputs": [
    {
     "data": {
      "text/plain": [
       "18"
      ]
     },
     "execution_count": 24,
     "metadata": {},
     "output_type": "execute_result"
    }
   ],
   "source": [
    "numArray3.size # numbers of element in array "
   ]
  },
  {
   "cell_type": "code",
   "execution_count": 25,
   "id": "2424a6f5",
   "metadata": {},
   "outputs": [
    {
     "data": {
      "text/plain": [
       "72"
      ]
     },
     "execution_count": 25,
     "metadata": {},
     "output_type": "execute_result"
    }
   ],
   "source": [
    "numArray3.nbytes # total number of bytes in array"
   ]
  },
  {
   "cell_type": "code",
   "execution_count": 26,
   "id": "27f64ce4",
   "metadata": {},
   "outputs": [],
   "source": [
    "singleArray1 = np.array([2]) # in list\n",
    "singleArray2 = np.array(6) # not list"
   ]
  },
  {
   "cell_type": "code",
   "execution_count": 27,
   "id": "23567834",
   "metadata": {},
   "outputs": [
    {
     "data": {
      "text/plain": [
       "1"
      ]
     },
     "execution_count": 27,
     "metadata": {},
     "output_type": "execute_result"
    }
   ],
   "source": [
    "singleArray1.ndim"
   ]
  },
  {
   "cell_type": "code",
   "execution_count": 28,
   "id": "473b5546",
   "metadata": {},
   "outputs": [
    {
     "data": {
      "text/plain": [
       "0"
      ]
     },
     "execution_count": 28,
     "metadata": {},
     "output_type": "execute_result"
    }
   ],
   "source": [
    "singleArray2.ndim"
   ]
  },
  {
   "cell_type": "markdown",
   "id": "5e40725e",
   "metadata": {},
   "source": [
    "# Numpy arange"
   ]
  },
  {
   "cell_type": "code",
   "execution_count": 29,
   "id": "20343d17",
   "metadata": {},
   "outputs": [
    {
     "data": {
      "text/plain": [
       "array([ 0,  1,  2,  3,  4,  5,  6,  7,  8,  9, 10, 11, 12, 13, 14, 15, 16,\n",
       "       17, 18, 19])"
      ]
     },
     "execution_count": 29,
     "metadata": {},
     "output_type": "execute_result"
    }
   ],
   "source": [
    "numArange1 = np.arange(20)\n",
    "numArange1"
   ]
  },
  {
   "cell_type": "code",
   "execution_count": 30,
   "id": "42c283f5",
   "metadata": {},
   "outputs": [
    {
     "data": {
      "text/plain": [
       "array([10, 11, 12, 13, 14, 15, 16, 17, 18, 19])"
      ]
     },
     "execution_count": 30,
     "metadata": {},
     "output_type": "execute_result"
    }
   ],
   "source": [
    "numArange2 = np.arange(10,20) # start and end\n",
    "numArange2"
   ]
  },
  {
   "cell_type": "code",
   "execution_count": 31,
   "id": "8506d813",
   "metadata": {},
   "outputs": [
    {
     "data": {
      "text/plain": [
       "array([10, 12, 14, 16, 18])"
      ]
     },
     "execution_count": 31,
     "metadata": {},
     "output_type": "execute_result"
    }
   ],
   "source": [
    "numArange3 = np.arange(10,20, 2) # start:end:step\n",
    "numArange3"
   ]
  },
  {
   "cell_type": "markdown",
   "id": "2491e577",
   "metadata": {},
   "source": [
    "# Numpy Random"
   ]
  },
  {
   "cell_type": "code",
   "execution_count": 32,
   "id": "b9ce1258",
   "metadata": {},
   "outputs": [
    {
     "data": {
      "text/plain": [
       "array([ 1,  6, 10, 11,  8,  7,  9,  0,  3,  5,  2,  4])"
      ]
     },
     "execution_count": 32,
     "metadata": {},
     "output_type": "execute_result"
    }
   ],
   "source": [
    "randomNumArray = np.random.permutation(np.arange(12)) # shuffle numbers in an array\n",
    "randomNumArray"
   ]
  },
  {
   "cell_type": "code",
   "execution_count": 33,
   "id": "0135e7c9",
   "metadata": {},
   "outputs": [
    {
     "data": {
      "text/plain": [
       "10"
      ]
     },
     "execution_count": 33,
     "metadata": {},
     "output_type": "execute_result"
    }
   ],
   "source": [
    "randomNum1 = np.random.randint(1,15)\n",
    "randomNum1"
   ]
  },
  {
   "cell_type": "code",
   "execution_count": 34,
   "id": "eb5861a6",
   "metadata": {},
   "outputs": [
    {
     "data": {
      "text/plain": [
       "array([0.523679  , 0.61430402, 0.64425324, 0.1431864 , 0.46429101,\n",
       "       0.84700127, 0.00103829, 0.58445963, 0.35864684, 0.93029504])"
      ]
     },
     "execution_count": 34,
     "metadata": {},
     "output_type": "execute_result"
    }
   ],
   "source": [
    "randomNum2 = np.random.rand(10) # generate random float number\n",
    "randomNum2"
   ]
  },
  {
   "cell_type": "code",
   "execution_count": 35,
   "id": "db2e4913",
   "metadata": {},
   "outputs": [
    {
     "data": {
      "text/plain": [
       "array([[0.45012061, 0.93794574, 0.24440745, 0.25458441, 0.04499498,\n",
       "        0.10850893, 0.87966783, 0.76802811, 0.19991828, 0.02028737],\n",
       "       [0.81678254, 0.26281975, 0.16347649, 0.94361357, 0.36569655,\n",
       "        0.31524586, 0.35310222, 0.36995361, 0.05399064, 0.6005025 ]])"
      ]
     },
     "execution_count": 35,
     "metadata": {},
     "output_type": "execute_result"
    }
   ],
   "source": [
    "randomNumArray = np.random.rand(2,10) #  generate random number with size of array dimension\n",
    "randomNumArray"
   ]
  },
  {
   "cell_type": "code",
   "execution_count": 36,
   "id": "074fa665",
   "metadata": {},
   "outputs": [],
   "source": [
    "import matplotlib.pyplot as plt"
   ]
  },
  {
   "cell_type": "code",
   "execution_count": 37,
   "id": "5e5efb91",
   "metadata": {},
   "outputs": [
    {
     "data": {
      "text/plain": [
       "(array([1., 2., 1., 2., 0., 0., 1., 1., 1., 1., 0., 3., 0., 0., 1., 0., 1.,\n",
       "        1., 1., 0., 3., 0., 1., 1., 0., 0., 0., 0., 1., 2., 1., 0., 2., 2.,\n",
       "        1., 2., 0., 2., 1., 1., 2., 0., 1., 1., 1., 0., 2., 2., 3., 1.]),\n",
       " array([0.02246448, 0.04192636, 0.06138824, 0.08085011, 0.10031199,\n",
       "        0.11977387, 0.13923575, 0.15869763, 0.1781595 , 0.19762138,\n",
       "        0.21708326, 0.23654514, 0.25600702, 0.27546889, 0.29493077,\n",
       "        0.31439265, 0.33385453, 0.3533164 , 0.37277828, 0.39224016,\n",
       "        0.41170204, 0.43116392, 0.45062579, 0.47008767, 0.48954955,\n",
       "        0.50901143, 0.5284733 , 0.54793518, 0.56739706, 0.58685894,\n",
       "        0.60632082, 0.62578269, 0.64524457, 0.66470645, 0.68416833,\n",
       "        0.7036302 , 0.72309208, 0.74255396, 0.76201584, 0.78147772,\n",
       "        0.80093959, 0.82040147, 0.83986335, 0.85932523, 0.8787871 ,\n",
       "        0.89824898, 0.91771086, 0.93717274, 0.95663462, 0.97609649,\n",
       "        0.99555837]),\n",
       " <BarContainer object of 50 artists>)"
      ]
     },
     "execution_count": 37,
     "metadata": {},
     "output_type": "execute_result"
    },
    {
     "data": {
      "image/png": "[encoded data removed]",
      "text/plain": [
       "<Figure size 432x288 with 1 Axes>"
      ]
     },
     "metadata": {
      "needs_background": "light"
     },
     "output_type": "display_data"
    }
   ],
   "source": [
    "randomNum2 = np.random.rand(50)\n",
    "plt.hist(randomNum2,bins=50)"
   ]
  },
  {
   "cell_type": "markdown",
   "id": "e1dd3fc7",
   "metadata": {},
   "source": [
    "# Numpy reshape"
   ]
  },
  {
   "cell_type": "code",
   "execution_count": 38,
   "id": "bfac6809",
   "metadata": {},
   "outputs": [
    {
     "data": {
      "text/plain": [
       "(array([ 1.,  0.,  0.,  0.,  0.,  0.,  0.,  0.,  2.,  0.,  1.,  3.,  3.,\n",
       "         1.,  1.,  4.,  4.,  6.,  3.,  4.,  6.,  4.,  2.,  4.,  6.,  6.,\n",
       "         4.,  5., 12., 12., 14., 14.,  9., 10., 17., 10., 17., 18., 16.,\n",
       "        21., 19., 22., 17., 18., 30., 29., 22., 31., 17., 21., 14., 26.,\n",
       "        22., 27., 26., 20., 26., 16., 25., 18., 34., 24., 20., 14., 17.,\n",
       "        14., 17., 19., 11., 14., 11., 16.,  8., 13., 11.,  6., 11.,  6.,\n",
       "         2.,  6.,  8.,  6.,  2.,  4.,  1.,  4.,  2.,  2.,  3.,  1.,  1.,\n",
       "         1.,  0.,  3.,  0.,  0.,  0.,  0.,  1.,  1.]),\n",
       " array([-3.20202521, -3.14015853, -3.07829186, -3.01642518, -2.95455851,\n",
       "        -2.89269183, -2.83082516, -2.76895848, -2.70709181, -2.64522514,\n",
       "        -2.58335846, -2.52149179, -2.45962511, -2.39775844, -2.33589176,\n",
       "        -2.27402509, -2.21215841, -2.15029174, -2.08842507, -2.02655839,\n",
       "        -1.96469172, -1.90282504, -1.84095837, -1.77909169, -1.71722502,\n",
       "        -1.65535834, -1.59349167, -1.531625  , -1.46975832, -1.40789165,\n",
       "        -1.34602497, -1.2841583 , -1.22229162, -1.16042495, -1.09855827,\n",
       "        -1.0366916 , -0.97482493, -0.91295825, -0.85109158, -0.7892249 ,\n",
       "        -0.72735823, -0.66549155, -0.60362488, -0.5417582 , -0.47989153,\n",
       "        -0.41802486, -0.35615818, -0.29429151, -0.23242483, -0.17055816,\n",
       "        -0.10869148, -0.04682481,  0.01504187,  0.07690854,  0.13877521,\n",
       "         0.20064189,  0.26250856,  0.32437524,  0.38624191,  0.44810859,\n",
       "         0.50997526,  0.57184194,  0.63370861,  0.69557528,  0.75744196,\n",
       "         0.81930863,  0.88117531,  0.94304198,  1.00490866,  1.06677533,\n",
       "         1.12864201,  1.19050868,  1.25237535,  1.31424203,  1.3761087 ,\n",
       "         1.43797538,  1.49984205,  1.56170873,  1.6235754 ,  1.68544208,\n",
       "         1.74730875,  1.80917542,  1.8710421 ,  1.93290877,  1.99477545,\n",
       "         2.05664212,  2.1185088 ,  2.18037547,  2.24224215,  2.30410882,\n",
       "         2.36597549,  2.42784217,  2.48970884,  2.55157552,  2.61344219,\n",
       "         2.67530887,  2.73717554,  2.79904222,  2.86090889,  2.92277556,\n",
       "         2.98464224]),\n",
       " <BarContainer object of 100 artists>)"
      ]
     },
     "execution_count": 38,
     "metadata": {},
     "output_type": "execute_result"
    },
    {
     "data": {
      "image/png": "[encoded data removed]",
      "text/plain": [
       "<Figure size 432x288 with 1 Axes>"
      ]
     },
     "metadata": {
      "needs_background": "light"
     },
     "output_type": "display_data"
    }
   ],
   "source": [
    "randomNum3 = np.random.randn(1000)\n",
    "plt.hist(randomNum3,bins=100)"
   ]
  },
  {
   "cell_type": "code",
   "execution_count": 39,
   "id": "98d767ad",
   "metadata": {},
   "outputs": [],
   "source": [
    "reshapeArray = np.arange(100).reshape(4,25) # 2d array"
   ]
  },
  {
   "cell_type": "code",
   "execution_count": 40,
   "id": "0138ce1b",
   "metadata": {},
   "outputs": [
    {
     "data": {
      "text/plain": [
       "array([[ 0,  1,  2,  3,  4,  5,  6,  7,  8,  9, 10, 11, 12, 13, 14, 15,\n",
       "        16, 17, 18, 19, 20, 21, 22, 23, 24],\n",
       "       [25, 26, 27, 28, 29, 30, 31, 32, 33, 34, 35, 36, 37, 38, 39, 40,\n",
       "        41, 42, 43, 44, 45, 46, 47, 48, 49],\n",
       "       [50, 51, 52, 53, 54, 55, 56, 57, 58, 59, 60, 61, 62, 63, 64, 65,\n",
       "        66, 67, 68, 69, 70, 71, 72, 73, 74],\n",
       "       [75, 76, 77, 78, 79, 80, 81, 82, 83, 84, 85, 86, 87, 88, 89, 90,\n",
       "        91, 92, 93, 94, 95, 96, 97, 98, 99]])"
      ]
     },
     "execution_count": 40,
     "metadata": {},
     "output_type": "execute_result"
    }
   ],
   "source": [
    "reshapeArray"
   ]
  },
  {
   "cell_type": "code",
   "execution_count": 41,
   "id": "296f3ca3",
   "metadata": {},
   "outputs": [
    {
     "data": {
      "text/plain": [
       "(4, 25)"
      ]
     },
     "execution_count": 41,
     "metadata": {},
     "output_type": "execute_result"
    }
   ],
   "source": [
    "reshapeArray.shape"
   ]
  },
  {
   "cell_type": "code",
   "execution_count": 42,
   "id": "a14213fb",
   "metadata": {},
   "outputs": [],
   "source": [
    "reshapeArray2 = np.arange(100).reshape(4,5,5) # 3d array"
   ]
  },
  {
   "cell_type": "code",
   "execution_count": 43,
   "id": "4fc8d197",
   "metadata": {},
   "outputs": [
    {
     "data": {
      "text/plain": [
       "array([[[ 0,  1,  2,  3,  4],\n",
       "        [ 5,  6,  7,  8,  9],\n",
       "        [10, 11, 12, 13, 14],\n",
       "        [15, 16, 17, 18, 19],\n",
       "        [20, 21, 22, 23, 24]],\n",
       "\n",
       "       [[25, 26, 27, 28, 29],\n",
       "        [30, 31, 32, 33, 34],\n",
       "        [35, 36, 37, 38, 39],\n",
       "        [40, 41, 42, 43, 44],\n",
       "        [45, 46, 47, 48, 49]],\n",
       "\n",
       "       [[50, 51, 52, 53, 54],\n",
       "        [55, 56, 57, 58, 59],\n",
       "        [60, 61, 62, 63, 64],\n",
       "        [65, 66, 67, 68, 69],\n",
       "        [70, 71, 72, 73, 74]],\n",
       "\n",
       "       [[75, 76, 77, 78, 79],\n",
       "        [80, 81, 82, 83, 84],\n",
       "        [85, 86, 87, 88, 89],\n",
       "        [90, 91, 92, 93, 94],\n",
       "        [95, 96, 97, 98, 99]]])"
      ]
     },
     "execution_count": 43,
     "metadata": {},
     "output_type": "execute_result"
    }
   ],
   "source": [
    "reshapeArray2"
   ]
  },
  {
   "cell_type": "code",
   "execution_count": 44,
   "id": "e30a1573",
   "metadata": {},
   "outputs": [
    {
     "data": {
      "text/plain": [
       "(4, 5, 5)"
      ]
     },
     "execution_count": 44,
     "metadata": {},
     "output_type": "execute_result"
    }
   ],
   "source": [
    "reshapeArray2.shape"
   ]
  },
  {
   "cell_type": "markdown",
   "id": "67f54d4b",
   "metadata": {},
   "source": [
    "# Numpy slicing array"
   ]
  },
  {
   "cell_type": "code",
   "execution_count": 45,
   "id": "56cd897c",
   "metadata": {},
   "outputs": [],
   "source": [
    "slicingArray = np.arange(30)\n",
    "sliceArracy = slicingArray[10:20]"
   ]
  },
  {
   "cell_type": "code",
   "execution_count": 46,
   "id": "0497f850",
   "metadata": {},
   "outputs": [
    {
     "data": {
      "text/plain": [
       "array([ 0,  1,  2,  3,  4,  5,  6,  7,  8,  9, 10, 11, 12, 13, 14, 15, 16,\n",
       "       17, 18, 19, 20, 21, 22, 23, 24, 25, 26, 27, 28, 29])"
      ]
     },
     "execution_count": 46,
     "metadata": {},
     "output_type": "execute_result"
    }
   ],
   "source": [
    "slicingArray"
   ]
  },
  {
   "cell_type": "code",
   "execution_count": 47,
   "id": "e6184aea",
   "metadata": {},
   "outputs": [
    {
     "data": {
      "text/plain": [
       "array([10, 11, 12, 13, 14, 15, 16, 17, 18, 19])"
      ]
     },
     "execution_count": 47,
     "metadata": {},
     "output_type": "execute_result"
    }
   ],
   "source": [
    "sliceArracy"
   ]
  },
  {
   "cell_type": "code",
   "execution_count": 48,
   "id": "5d60ab17",
   "metadata": {},
   "outputs": [],
   "source": [
    "sliceArracy[2] = -12"
   ]
  },
  {
   "cell_type": "code",
   "execution_count": 49,
   "id": "8e3ce5bb",
   "metadata": {},
   "outputs": [
    {
     "data": {
      "text/plain": [
       "array([  0,   1,   2,   3,   4,   5,   6,   7,   8,   9,  10,  11, -12,\n",
       "        13,  14,  15,  16,  17,  18,  19,  20,  21,  22,  23,  24,  25,\n",
       "        26,  27,  28,  29])"
      ]
     },
     "execution_count": 49,
     "metadata": {},
     "output_type": "execute_result"
    }
   ],
   "source": [
    "slicingArray"
   ]
  },
  {
   "cell_type": "code",
   "execution_count": 50,
   "id": "f508a45b",
   "metadata": {},
   "outputs": [
    {
     "data": {
      "text/plain": [
       "array([ 10,  11, -12,  13,  14,  15,  16,  17,  18,  19])"
      ]
     },
     "execution_count": 50,
     "metadata": {},
     "output_type": "execute_result"
    }
   ],
   "source": [
    "sliceArracy"
   ]
  },
  {
   "cell_type": "code",
   "execution_count": 51,
   "id": "c166d21c",
   "metadata": {},
   "outputs": [],
   "source": [
    "sliceArracy = slicingArray[10:20].copy()"
   ]
  },
  {
   "cell_type": "code",
   "execution_count": 52,
   "id": "f88bc40e",
   "metadata": {},
   "outputs": [],
   "source": [
    "sliceArracy[-1] = -19"
   ]
  },
  {
   "cell_type": "code",
   "execution_count": 53,
   "id": "fc80dcff",
   "metadata": {},
   "outputs": [
    {
     "data": {
      "text/plain": [
       "array([  0,   1,   2,   3,   4,   5,   6,   7,   8,   9,  10,  11, -12,\n",
       "        13,  14,  15,  16,  17,  18,  19,  20,  21,  22,  23,  24,  25,\n",
       "        26,  27,  28,  29])"
      ]
     },
     "execution_count": 53,
     "metadata": {},
     "output_type": "execute_result"
    }
   ],
   "source": [
    "slicingArray"
   ]
  },
  {
   "cell_type": "code",
   "execution_count": 54,
   "id": "0839c2f6",
   "metadata": {},
   "outputs": [
    {
     "data": {
      "text/plain": [
       "array([ 10,  11, -12,  13,  14,  15,  16,  17,  18, -19])"
      ]
     },
     "execution_count": 54,
     "metadata": {},
     "output_type": "execute_result"
    }
   ],
   "source": [
    "sliceArracy"
   ]
  },
  {
   "cell_type": "code",
   "execution_count": 55,
   "id": "1bf6b1e1",
   "metadata": {},
   "outputs": [
    {
     "data": {
      "text/plain": [
       "array([[ 0,  1,  2,  3,  4,  5,  6,  7,  8,  9, 10, 11, 12, 13, 14, 15,\n",
       "        16, 17, 18, 19, 20, 21, 22, 23, 24],\n",
       "       [25, 26, 27, 28, 29, 30, 31, 32, 33, 34, 35, 36, 37, 38, 39, 40,\n",
       "        41, 42, 43, 44, 45, 46, 47, 48, 49],\n",
       "       [50, 51, 52, 53, 54, 55, 56, 57, 58, 59, 60, 61, 62, 63, 64, 65,\n",
       "        66, 67, 68, 69, 70, 71, 72, 73, 74],\n",
       "       [75, 76, 77, 78, 79, 80, 81, 82, 83, 84, 85, 86, 87, 88, 89, 90,\n",
       "        91, 92, 93, 94, 95, 96, 97, 98, 99]])"
      ]
     },
     "execution_count": 55,
     "metadata": {},
     "output_type": "execute_result"
    }
   ],
   "source": [
    "reshapeArray"
   ]
  },
  {
   "cell_type": "code",
   "execution_count": 58,
   "id": "315a7a70",
   "metadata": {},
   "outputs": [
    {
     "data": {
      "text/plain": [
       "array([ 0,  1,  2,  3,  4,  5,  6,  7,  8,  9, 10, 11, 12, 13, 14, 15, 16,\n",
       "       17, 18, 19, 20, 21, 22, 23, 24, 25, 26, 27, 28, 29, 30, 31, 32, 33,\n",
       "       34, 35, 36, 37, 38, 39, 40, 41, 42, 43, 44, 45, 46, 47, 48, 49, 50,\n",
       "       51, 52, 53, 54, 55, 56, 57, 58, 59, 60, 61, 62, 63, 64, 65, 66, 67,\n",
       "       68, 69, 70, 71, 72, 73, 74, 75, 76, 77, 78, 79, 80, 81, 82, 83, 84,\n",
       "       85, 86, 87, 88, 89, 90, 91, 92, 93, 94, 95, 96, 97, 98, 99])"
      ]
     },
     "execution_count": 58,
     "metadata": {},
     "output_type": "execute_result"
    }
   ],
   "source": [
    "range100 = np.arange(100)\n",
    "range100"
   ]
  },
  {
   "cell_type": "code",
   "execution_count": 60,
   "id": "47ef18b6",
   "metadata": {},
   "outputs": [
    {
     "data": {
      "text/plain": [
       "26"
      ]
     },
     "execution_count": 60,
     "metadata": {},
     "output_type": "execute_result"
    }
   ],
   "source": [
    "index = np.argwhere(range100 == 26)[0][0] # finding index using numpy\n",
    "index"
   ]
  },
  {
   "cell_type": "code",
   "execution_count": 63,
   "id": "e456f8f5",
   "metadata": {},
   "outputs": [
    {
     "data": {
      "text/plain": [
       "array([  0,   1,   2,   3,   4,   5,   6,   7,   8,   9,  10,  11,  12,\n",
       "        13,  14,  15,  16,  17,  18,  19,  20,  21,  22,  23,  24,  25,\n",
       "       260,  27,  28,  29,  30,  31,  32,  33,  34,  35,  36,  37,  38,\n",
       "        39,  40,  41,  42,  43,  44,  45,  46,  47,  48,  49,  50,  51,\n",
       "        52,  53,  54,  55,  56,  57,  58,  59,  60,  61,  62,  63,  64,\n",
       "        65,  66,  67,  68,  69,  70,  71,  72,  73,  74,  75,  76,  77,\n",
       "        78,  79,  80,  81,  82,  83,  84,  85,  86,  87,  88,  89,  90,\n",
       "        91,  92,  93,  94,  95,  96,  97,  98,  99])"
      ]
     },
     "execution_count": 63,
     "metadata": {},
     "output_type": "execute_result"
    }
   ],
   "source": [
    "range100[index] = 260 # changing index value\n",
    "range100"
   ]
  },
  {
   "cell_type": "code",
   "execution_count": 69,
   "id": "9598c320",
   "metadata": {},
   "outputs": [
    {
     "data": {
      "text/plain": [
       "array([[ 6.,  8.,  8.],\n",
       "       [ 3.,  3.,  6.],\n",
       "       [ 6.,  3., 10.],\n",
       "       [ 7.,  7.,  9.]])"
      ]
     },
     "execution_count": 69,
     "metadata": {},
     "output_type": "execute_result"
    }
   ],
   "source": [
    "array2d = np.round(10*np.random.rand(4,3)) # generate random number 2d array\n",
    "array2d"
   ]
  },
  {
   "cell_type": "code",
   "execution_count": 70,
   "id": "7f8a9121",
   "metadata": {},
   "outputs": [
    {
     "data": {
      "text/plain": [
       "3.0"
      ]
     },
     "execution_count": 70,
     "metadata": {},
     "output_type": "execute_result"
    }
   ],
   "source": [
    "array2d[2,1] #accessing index value"
   ]
  },
  {
   "cell_type": "code",
   "execution_count": 72,
   "id": "4e27fa62",
   "metadata": {},
   "outputs": [
    {
     "data": {
      "text/plain": [
       "array([3., 3., 6.])"
      ]
     },
     "execution_count": 72,
     "metadata": {},
     "output_type": "execute_result"
    }
   ],
   "source": [
    "array2d[1,:] #accessing all column"
   ]
  },
  {
   "cell_type": "code",
   "execution_count": 74,
   "id": "9a42831c",
   "metadata": {},
   "outputs": [
    {
     "data": {
      "text/plain": [
       "array([6., 3., 6., 7.])"
      ]
     },
     "execution_count": 74,
     "metadata": {},
     "output_type": "execute_result"
    }
   ],
   "source": [
    "array2d[:,0] # accessing all rows and all column 0"
   ]
  },
  {
   "cell_type": "code",
   "execution_count": 76,
   "id": "b05891a3",
   "metadata": {},
   "outputs": [
    {
     "data": {
      "text/plain": [
       "array([[3., 3.],\n",
       "       [6., 3.],\n",
       "       [7., 7.]])"
      ]
     },
     "execution_count": 76,
     "metadata": {},
     "output_type": "execute_result"
    }
   ],
   "source": [
    "array2d[1:, :2]"
   ]
  },
  {
   "cell_type": "code",
   "execution_count": 78,
   "id": "6d67697b",
   "metadata": {},
   "outputs": [
    {
     "data": {
      "text/plain": [
       "array([[ 6.,  3.,  6.,  7.],\n",
       "       [ 8.,  3.,  3.,  7.],\n",
       "       [ 8.,  6., 10.,  9.]])"
      ]
     },
     "execution_count": 78,
     "metadata": {},
     "output_type": "execute_result"
    }
   ],
   "source": [
    "array2d.T # tranpose matrix"
   ]
  },
  {
   "cell_type": "code",
   "execution_count": 80,
   "id": "7b01b42e",
   "metadata": {},
   "outputs": [
    {
     "data": {
      "text/plain": [
       "array([[ 3.,  3.,  6.],\n",
       "       [ 6.,  3.,  8.],\n",
       "       [ 6.,  7.,  9.],\n",
       "       [ 7.,  8., 10.]])"
      ]
     },
     "execution_count": 80,
     "metadata": {},
     "output_type": "execute_result"
    }
   ],
   "source": [
    "array2d.sort(axis=0)\n",
    "array2d"
   ]
  },
  {
   "cell_type": "code",
   "execution_count": 81,
   "id": "64709338",
   "metadata": {},
   "outputs": [
    {
     "data": {
      "text/plain": [
       "array([[ 3.,  3.,  6.],\n",
       "       [ 3.,  6.,  8.],\n",
       "       [ 6.,  7.,  9.],\n",
       "       [ 7.,  8., 10.]])"
      ]
     },
     "execution_count": 81,
     "metadata": {},
     "output_type": "execute_result"
    }
   ],
   "source": [
    "array2d.sort(axis=1)\n",
    "array2d"
   ]
  },
  {
   "cell_type": "code",
   "execution_count": 82,
   "id": "732cf3c9",
   "metadata": {},
   "outputs": [
    {
     "data": {
      "text/plain": [
       "array([  0,   1,   2,   3,   4,   5,   6,   7,   8,   9,  10,  11,  12,\n",
       "        13,  14,  15,  16,  17,  18,  19,  20,  21,  22,  23,  24,  25,\n",
       "       260,  27,  28,  29,  30,  31,  32,  33,  34,  35,  36,  37,  38,\n",
       "        39,  40,  41,  42,  43,  44,  45,  46,  47,  48,  49,  50,  51,\n",
       "        52,  53,  54,  55,  56,  57,  58,  59,  60,  61,  62,  63,  64,\n",
       "        65,  66,  67,  68,  69,  70,  71,  72,  73,  74,  75,  76,  77,\n",
       "        78,  79,  80,  81,  82,  83,  84,  85,  86,  87,  88,  89,  90,\n",
       "        91,  92,  93,  94,  95,  96,  97,  98,  99])"
      ]
     },
     "execution_count": 82,
     "metadata": {},
     "output_type": "execute_result"
    }
   ],
   "source": [
    "range100"
   ]
  },
  {
   "cell_type": "markdown",
   "id": "0bff62dd",
   "metadata": {},
   "source": [
    "# & for array, and for object\n",
    "# | for array, or for object\n",
    "# ~ for array, not for object"
   ]
  },
  {
   "cell_type": "code",
   "execution_count": 85,
   "id": "ad4127b7",
   "metadata": {},
   "outputs": [
    {
     "data": {
      "text/plain": [
       "array([11, 12, 13])"
      ]
     },
     "execution_count": 85,
     "metadata": {},
     "output_type": "execute_result"
    }
   ],
   "source": [
    "newrange = range100[[11,12,13]]\n",
    "newrange"
   ]
  },
  {
   "cell_type": "code",
   "execution_count": 86,
   "id": "3e139298",
   "metadata": {},
   "outputs": [
    {
     "data": {
      "text/plain": [
       "array([ 0,  1,  2,  3,  4,  5,  6,  7,  8,  9, 10, 11, 12, 13, 14, 15, 16,\n",
       "       17, 18, 19])"
      ]
     },
     "execution_count": 86,
     "metadata": {},
     "output_type": "execute_result"
    }
   ],
   "source": [
    "newrange = range100[range100 <20]\n",
    "newrange"
   ]
  },
  {
   "cell_type": "code",
   "execution_count": 87,
   "id": "90b26cf5",
   "metadata": {},
   "outputs": [
    {
     "data": {
      "text/plain": [
       "array([11, 12, 13, 14, 15, 16, 17, 18, 19])"
      ]
     },
     "execution_count": 87,
     "metadata": {},
     "output_type": "execute_result"
    }
   ],
   "source": [
    "newrange = range100[(range100<20) & (range100>10)]\n",
    "newrange"
   ]
  },
  {
   "cell_type": "markdown",
   "id": "3773d484",
   "metadata": {},
   "source": [
    "# Broadcasting"
   ]
  },
  {
   "cell_type": "code",
   "execution_count": 89,
   "id": "18ac404a",
   "metadata": {},
   "outputs": [
    {
     "data": {
      "text/plain": [
       "array([[0., 1., 1.],\n",
       "       [0., 1., 1.]])"
      ]
     },
     "execution_count": 89,
     "metadata": {},
     "output_type": "execute_result"
    }
   ],
   "source": [
    "broadA = np.round(np.random.rand(2,3))\n",
    "broadA"
   ]
  },
  {
   "cell_type": "code",
   "execution_count": 90,
   "id": "e6c8a76f",
   "metadata": {},
   "outputs": [
    {
     "data": {
      "text/plain": [
       "array([[3., 4., 4.],\n",
       "       [3., 4., 4.]])"
      ]
     },
     "execution_count": 90,
     "metadata": {},
     "output_type": "execute_result"
    }
   ],
   "source": [
    "broadA+3"
   ]
  },
  {
   "cell_type": "code",
   "execution_count": 91,
   "id": "f4d59d90",
   "metadata": {},
   "outputs": [
    {
     "data": {
      "text/plain": [
       "array([[0., 1., 1.],\n",
       "       [0., 1., 1.]])"
      ]
     },
     "execution_count": 91,
     "metadata": {},
     "output_type": "execute_result"
    }
   ],
   "source": [
    "broadA+(np.arange(2).reshape(2,1))\n",
    "broadA"
   ]
  },
  {
   "cell_type": "code",
   "execution_count": 92,
   "id": "ca066472",
   "metadata": {},
   "outputs": [
    {
     "data": {
      "text/plain": [
       "array([[1., 0.],\n",
       "       [0., 1.]])"
      ]
     },
     "execution_count": 92,
     "metadata": {},
     "output_type": "execute_result"
    }
   ],
   "source": [
    "broadB = np.round(np.random.rand(2,2))\n",
    "broadB"
   ]
  },
  {
   "cell_type": "code",
   "execution_count": 93,
   "id": "4516375a",
   "metadata": {},
   "outputs": [
    {
     "data": {
      "text/plain": [
       "array([[0., 1., 1., 1., 0.],\n",
       "       [0., 1., 1., 0., 1.]])"
      ]
     },
     "execution_count": 93,
     "metadata": {},
     "output_type": "execute_result"
    }
   ],
   "source": [
    "broadC = np.hstack((broadA,broadB))\n",
    "broadC"
   ]
  },
  {
   "cell_type": "code",
   "execution_count": 94,
   "id": "1e209d08",
   "metadata": {},
   "outputs": [
    {
     "data": {
      "text/plain": [
       "array([9, 0, 1, 4, 5, 2, 3, 6, 7, 8])"
      ]
     },
     "execution_count": 94,
     "metadata": {},
     "output_type": "execute_result"
    }
   ],
   "source": [
    "broadA = np.random.permutation(np.arange(10))\n",
    "broadA"
   ]
  },
  {
   "cell_type": "code",
   "execution_count": 96,
   "id": "6682aaec",
   "metadata": {},
   "outputs": [
    {
     "data": {
      "text/plain": [
       "array([0, 1, 2, 3, 4, 5, 6, 7, 8, 9])"
      ]
     },
     "execution_count": 96,
     "metadata": {},
     "output_type": "execute_result"
    }
   ],
   "source": [
    "broadA.sort()\n",
    "broadA"
   ]
  },
  {
   "cell_type": "code",
   "execution_count": 99,
   "id": "0fcc0f85",
   "metadata": {},
   "outputs": [
    {
     "data": {
      "text/plain": [
       "array([9, 8, 7, 6, 5, 4, 3, 2, 1, 0])"
      ]
     },
     "execution_count": 99,
     "metadata": {},
     "output_type": "execute_result"
    }
   ],
   "source": [
    "broadA = broadA[::-1] # sort in ascending order\n",
    "broadA"
   ]
  },
  {
   "cell_type": "code",
   "execution_count": 102,
   "id": "c4ff3974",
   "metadata": {},
   "outputs": [
    {
     "data": {
      "text/plain": [
       "array(['da', 'ence', 'py', 'sci', 'ta', 'thon'], dtype='<U4')"
      ]
     },
     "execution_count": 102,
     "metadata": {},
     "output_type": "execute_result"
    }
   ],
   "source": [
    "# sorting strings array\n",
    "broadA = np.array([\"py\",\"thon\",\"da\",\"ta\",\"sci\",\"ence\"])\n",
    "broadA.sort()\n",
    "broadA"
   ]
  },
  {
   "cell_type": "markdown",
   "id": "4273c091",
   "metadata": {},
   "source": [
    "# Speed: Ufunctions"
   ]
  },
  {
   "cell_type": "code",
   "execution_count": 103,
   "id": "07d697b8",
   "metadata": {},
   "outputs": [
    {
     "name": "stdout",
     "output_type": "stream",
     "text": [
      "114 ms ± 2.71 ms per loop (mean ± std. dev. of 7 runs, 10 loops each)\n",
      "1.1 ms ± 28.8 µs per loop (mean ± std. dev. of 7 runs, 1,000 loops each)\n"
     ]
    }
   ],
   "source": [
    "speedA = np.random.rand(1000000)\n",
    "%timeit sum(speedA)\n",
    "%timeit np.sum(speedA) # speedA.sum()"
   ]
  },
  {
   "cell_type": "markdown",
   "id": "3861c382",
   "metadata": {},
   "source": [
    "# Pandas"
   ]
  },
  {
   "cell_type": "code",
   "execution_count": 104,
   "id": "0b7d3b24",
   "metadata": {},
   "outputs": [],
   "source": [
    "import pandas as pd"
   ]
  },
  {
   "cell_type": "code",
   "execution_count": 110,
   "id": "4525569c",
   "metadata": {},
   "outputs": [
    {
     "data": {
      "text/plain": [
       "a    1\n",
       "b    2\n",
       "c    3\n",
       "d    4\n",
       "dtype: int64"
      ]
     },
     "execution_count": 110,
     "metadata": {},
     "output_type": "execute_result"
    }
   ],
   "source": [
    "seriesA = pd.Series([1,2,3,4],index=[\"a\",\"b\",\"c\",\"d\"])\n",
    "seriesA"
   ]
  },
  {
   "cell_type": "code",
   "execution_count": 112,
   "id": "1a17ba70",
   "metadata": {},
   "outputs": [
    {
     "data": {
      "text/plain": [
       "array([1, 2, 3, 4], dtype=int64)"
      ]
     },
     "execution_count": 112,
     "metadata": {},
     "output_type": "execute_result"
    }
   ],
   "source": [
    "seriesA.values # index values"
   ]
  },
  {
   "cell_type": "code",
   "execution_count": 113,
   "id": "0c1305ea",
   "metadata": {},
   "outputs": [
    {
     "data": {
      "text/plain": [
       "Index(['a', 'b', 'c', 'd'], dtype='object')"
      ]
     },
     "execution_count": 113,
     "metadata": {},
     "output_type": "execute_result"
    }
   ],
   "source": [
    "seriesA.index # index"
   ]
  },
  {
   "cell_type": "code",
   "execution_count": 114,
   "id": "a416adbc",
   "metadata": {},
   "outputs": [
    {
     "data": {
      "text/plain": [
       "2"
      ]
     },
     "execution_count": 114,
     "metadata": {},
     "output_type": "execute_result"
    }
   ],
   "source": [
    "seriesA[\"b\"] # value"
   ]
  },
  {
   "cell_type": "code",
   "execution_count": 116,
   "id": "1e2b20cd",
   "metadata": {},
   "outputs": [
    {
     "data": {
      "text/plain": [
       "a    1\n",
       "b    2\n",
       "c    3\n",
       "d    4\n",
       "dtype: int64"
      ]
     },
     "execution_count": 116,
     "metadata": {},
     "output_type": "execute_result"
    }
   ],
   "source": [
    "seriesA[\"a\":\"d\"] # all values"
   ]
  },
  {
   "cell_type": "markdown",
   "id": "bc50b03d",
   "metadata": {},
   "source": [
    "stop at 11:11"
   ]
  }
 ],
 "metadata": {
  "kernelspec": {
   "display_name": "Python 3 (ipykernel)",
   "language": "python",
   "name": "python3"
  },
  "language_info": {
   "codemirror_mode": {
    "name": "ipython",
    "version": 3
   },
   "file_extension": ".py",
   "mimetype": "text/x-python",
   "name": "python",
   "nbconvert_exporter": "python",
   "pygments_lexer": "ipython3",
   "version": "3.10.4"
  }
 },
 "nbformat": 4,
 "nbformat_minor": 5
}
