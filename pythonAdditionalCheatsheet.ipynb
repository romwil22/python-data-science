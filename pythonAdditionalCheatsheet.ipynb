{
 "cells": [
  {
   "cell_type": "markdown",
   "id": "fec098d7",
   "metadata": {},
   "source": [
    "# Build-in Functions"
   ]
  },
  {
   "cell_type": "markdown",
   "id": "cd3693b1",
   "metadata": {},
   "source": [
    "# round function"
   ]
  },
  {
   "cell_type": "code",
   "execution_count": 9,
   "id": "9b6ea926",
   "metadata": {},
   "outputs": [
    {
     "data": {
      "text/plain": [
       "35"
      ]
     },
     "execution_count": 9,
     "metadata": {},
     "output_type": "execute_result"
    }
   ],
   "source": [
    "round(34.765)"
   ]
  },
  {
   "cell_type": "code",
   "execution_count": 10,
   "id": "59924f98",
   "metadata": {},
   "outputs": [
    {
     "data": {
      "text/plain": [
       "34"
      ]
     },
     "execution_count": 10,
     "metadata": {},
     "output_type": "execute_result"
    }
   ],
   "source": [
    "round(34.432)"
   ]
  },
  {
   "cell_type": "markdown",
   "id": "febffd91",
   "metadata": {},
   "source": [
    "# divmod Function"
   ]
  },
  {
   "cell_type": "code",
   "execution_count": 11,
   "id": "f8849cd7",
   "metadata": {},
   "outputs": [
    {
     "data": {
      "text/plain": [
       "(5, 5)"
      ]
     },
     "execution_count": 11,
     "metadata": {},
     "output_type": "execute_result"
    }
   ],
   "source": [
    "divmod(45, 8)"
   ]
  },
  {
   "cell_type": "code",
   "execution_count": 12,
   "id": "fca8ff60",
   "metadata": {},
   "outputs": [
    {
     "data": {
      "text/plain": [
       "(6, 2)"
      ]
     },
     "execution_count": 12,
     "metadata": {},
     "output_type": "execute_result"
    }
   ],
   "source": [
    "divmod(26, 4)"
   ]
  },
  {
   "cell_type": "markdown",
   "id": "ad3af7a3",
   "metadata": {},
   "source": [
    "# power function"
   ]
  },
  {
   "cell_type": "code",
   "execution_count": 14,
   "id": "ecff8641",
   "metadata": {},
   "outputs": [
    {
     "data": {
      "text/plain": [
       "25"
      ]
     },
     "execution_count": 14,
     "metadata": {},
     "output_type": "execute_result"
    }
   ],
   "source": [
    "pow(5,2)"
   ]
  },
  {
   "cell_type": "code",
   "execution_count": 17,
   "id": "a1bcb725",
   "metadata": {},
   "outputs": [
    {
     "data": {
      "text/plain": [
       "4"
      ]
     },
     "execution_count": 17,
     "metadata": {},
     "output_type": "execute_result"
    }
   ],
   "source": [
    "pow(4,4,7)"
   ]
  },
  {
   "cell_type": "code",
   "execution_count": 18,
   "id": "fc296094",
   "metadata": {},
   "outputs": [
    {
     "name": "stdout",
     "output_type": "stream",
     "text": [
      "enter your name: romwil\n"
     ]
    }
   ],
   "source": [
    "name = input(\"enter your name: \")"
   ]
  },
  {
   "cell_type": "code",
   "execution_count": 19,
   "id": "87b09ba4",
   "metadata": {},
   "outputs": [
    {
     "data": {
      "text/plain": [
       "'romwil'"
      ]
     },
     "execution_count": 19,
     "metadata": {},
     "output_type": "execute_result"
    }
   ],
   "source": [
    "name"
   ]
  },
  {
   "cell_type": "markdown",
   "id": "4c71dfe9",
   "metadata": {},
   "source": [
    "# Short hand if else statement"
   ]
  },
  {
   "cell_type": "code",
   "execution_count": 3,
   "id": "c48c0d1f",
   "metadata": {},
   "outputs": [
    {
     "name": "stdout",
     "output_type": "stream",
     "text": [
      "23\n"
     ]
    }
   ],
   "source": [
    "x = 23\n",
    "y = 1\n",
    "\n",
    "print(x) if x > y else print(\"equal\") if x == y else print(y)"
   ]
  },
  {
   "cell_type": "markdown",
   "id": "caf0d2cc",
   "metadata": {},
   "source": [
    "# Sorting program without using build-in function"
   ]
  },
  {
   "cell_type": "code",
   "execution_count": 21,
   "id": "cec2efab",
   "metadata": {},
   "outputs": [
    {
     "name": "stdout",
     "output_type": "stream",
     "text": [
      "[21, 4, 54, 8, -2, 32, 64]\n",
      "Sorted List:  [-2, 4, 8, 21, 32, 54, 64]\n"
     ]
    }
   ],
   "source": [
    "lst = [21, 4, 54, 8, -2, 32, 64]\n",
    "print(lst)\n",
    "lst.sort()\n",
    "\n",
    "for i in range(len(lst)): # i mean iteration\n",
    "    minimum = lst[i]\n",
    "    index = i\n",
    "    count = i\n",
    "    \n",
    "    for i2 in range(i,len(lst)): #i2 mean second iteration \n",
    "        \n",
    "        if (lst[i2] < minimum):\n",
    "            m = lst[i2]\n",
    "            index = count\n",
    "            \n",
    "        count +=1\n",
    "    \n",
    "    temporaryNumber = lst[i]\n",
    "    lst[i] = minimum\n",
    "    lst[index] = temporaryNumber\n",
    "\n",
    "print(\"Sorted List: \", lst)"
   ]
  },
  {
   "cell_type": "markdown",
   "id": "99bdec76",
   "metadata": {},
   "source": [
    "# Function doc string"
   ]
  },
  {
   "cell_type": "code",
   "execution_count": 24,
   "id": "668d16b1",
   "metadata": {},
   "outputs": [],
   "source": [
    "def message():\n",
    "    \"\"\" print messages function\"\"\" # doc string\n",
    "    print(\"python\")\n",
    "    print(\"data science\")\n",
    "    print(\"hello, welcome to python data science\")"
   ]
  },
  {
   "cell_type": "markdown",
   "id": "d2008519",
   "metadata": {},
   "source": [
    "# return multiple value in function"
   ]
  },
  {
   "cell_type": "code",
   "execution_count": 36,
   "id": "ee824eab",
   "metadata": {},
   "outputs": [],
   "source": [
    "def multiple_value(x,y,z):\n",
    "    \n",
    "    return x, y, z\n"
   ]
  },
  {
   "cell_type": "code",
   "execution_count": 37,
   "id": "070ab0be",
   "metadata": {},
   "outputs": [
    {
     "name": "stdout",
     "output_type": "stream",
     "text": [
      "21 42.312 python data science\n"
     ]
    }
   ],
   "source": [
    "number, floatNumber, stringMessage = multiple_value(21, 42.312, \"python data science\")\n",
    "\n",
    "print(number, floatNumber, stringMessage)"
   ]
  },
  {
   "cell_type": "code",
   "execution_count": 4,
   "id": "01f59169",
   "metadata": {},
   "outputs": [
    {
     "ename": "SyntaxError",
     "evalue": "invalid syntax (3976750136.py, line 1)",
     "output_type": "error",
     "traceback": [
      "\u001b[1;36m  Input \u001b[1;32mIn [4]\u001b[1;36m\u001b[0m\n\u001b[1;33m    d = dict(\"A\": 1, \"B\": 2, \"C\": 3)\u001b[0m\n\u001b[1;37m                ^\u001b[0m\n\u001b[1;31mSyntaxError\u001b[0m\u001b[1;31m:\u001b[0m invalid syntax\n"
     ]
    }
   ],
   "source": [
    "d = dict(\"A\": 1, \"B\": 2, \"C\": 3)\n",
    "print(d)"
   ]
  },
  {
   "cell_type": "markdown",
   "id": "432a4c8b",
   "metadata": {},
   "source": [
    "# Swapping index value function"
   ]
  },
  {
   "cell_type": "code",
   "execution_count": 11,
   "id": "599bfdbd",
   "metadata": {},
   "outputs": [
    {
     "name": "stdout",
     "output_type": "stream",
     "text": [
      "[2, 32, 54, 21, 32, 12]\n",
      "[12, 32, 54, 21, 32, 2]\n"
     ]
    }
   ],
   "source": [
    "def swap_index_value(lst, index1, index2):\n",
    "    temporaryValue = lst[index1]\n",
    "    lst[index1] = lst[index2]\n",
    "    lst[index2] = temporaryValue\n",
    "    \n",
    "    return lst\n",
    "\n",
    "lst = [2,32,54,21,32,12]\n",
    "print(lst)\n",
    "\n",
    "lst2 = swap_index_value(lst, 0, -1)\n",
    "print(lst)\n"
   ]
  },
  {
   "cell_type": "markdown",
   "id": "55897aea",
   "metadata": {},
   "source": [
    "# Indexing/slicing [start:end:step]"
   ]
  },
  {
   "cell_type": "markdown",
   "id": "0684bfc7",
   "metadata": {},
   "source": [
    "# Reversing string"
   ]
  },
  {
   "cell_type": "code",
   "execution_count": 3,
   "id": "8a398220",
   "metadata": {},
   "outputs": [
    {
     "name": "stdout",
     "output_type": "stream",
     "text": [
      "ecneics atad rof gnimmargorp nohtyp\n"
     ]
    }
   ],
   "source": [
    "message = \"python programming for data science\"\n",
    "print(message[::-1])"
   ]
  },
  {
   "cell_type": "code",
   "execution_count": 11,
   "id": "b98e3a44",
   "metadata": {},
   "outputs": [],
   "source": [
    "message.count??"
   ]
  },
  {
   "cell_type": "code",
   "execution_count": 16,
   "id": "c7246928",
   "metadata": {},
   "outputs": [],
   "source": [
    "str.split?"
   ]
  },
  {
   "cell_type": "markdown",
   "id": "c520e70a",
   "metadata": {},
   "source": [
    "stop at 9:36"
   ]
  }
 ],
 "metadata": {
  "kernelspec": {
   "display_name": "Python 3 (ipykernel)",
   "language": "python",
   "name": "python3"
  },
  "language_info": {
   "codemirror_mode": {
    "name": "ipython",
    "version": 3
   },
   "file_extension": ".py",
   "mimetype": "text/x-python",
   "name": "python",
   "nbconvert_exporter": "python",
   "pygments_lexer": "ipython3",
   "version": "3.9.12"
  }
 },
 "nbformat": 4,
 "nbformat_minor": 5
}
